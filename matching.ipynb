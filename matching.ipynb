{
 "cells": [
  {
   "cell_type": "markdown",
   "metadata": {},
   "source": [
    "**Description**: Show how to construct basic IP formulations for matching in causal inference\n",
    "\n",
    "**Author**: Juan Pablo Vielma\n",
    "\n",
    "**License**: <a rel=\"license\" href=\"http://creativecommons.org/licenses/by-sa/4.0/\"><img alt=\"Creative Commons License\" style=\"border-width:0\" src=\"https://i.creativecommons.org/l/by-sa/4.0/88x31.png\" /></a><br />This work is licensed under a <a rel=\"license\" href=\"http://creativecommons.org/licenses/by-sa/4.0/\">Creative Commons Attribution-ShareAlike 4.0 International License</a>."
   ]
  },
  {
   "cell_type": "markdown",
   "metadata": {},
   "source": [
    "# IP formulations for matching in causal inference with JuMP\n",
    "\n",
    "We first consider the matching problem of the form\n",
    "$$\\begin{alignedat}{4}\n",
    " &\\min & \\quad  \\sum_{t=1}^{T} \\sum_{c=1}^{C} m_{t,c}  \\\\\n",
    " \\notag&s.t.\\\\\n",
    " &      &  \\sum_{t=1}^{T} m_{t,c} &\\leq 1,  &\\quad& \\forall c\\in \\{1,\\ldots,C\\} \\\\\n",
    "  &      &   \\sum_{c=1}^{C} m_{t,c} &\\leq 1,  &\\quad& \\forall d\\in \\{1,\\ldots,T\\} \\\\\n",
    "  && m_{t,c}&=0, &\\quad& \\forall t,c \\quad \\mathbf{x}^t\\neq \\mathbf{x}^c\\\\\n",
    "  &      &  m_{t,c} &\\geq 0,  &\\quad& \\forall t\\in \\{1,\\ldots,T\\},\\quad c\\in \\{1,\\ldots,C\\} \\\\\n",
    " \\end{alignedat}$$\n",
    " and then the matching problem of the form \n",
    " $$\\begin{alignedat}{4}\n",
    " &\\min & \\quad  \\sum_{t=1}^{T} \\sum_{c=1}^{C} m_{t,c}  \\\\\n",
    " \\notag&s.t.\\\\\n",
    " &      &  \\sum_{t=1}^{T} m_{t,c} &\\leq 1,  &\\quad& \\forall c\\in \\{1,\\ldots,C\\} \\\\\n",
    "  &      &   \\sum_{c=1}^{C} m_{t,c} &\\leq 1,  &\\quad& \\forall d\\in \\{1,\\ldots,T\\} \\\\\n",
    "  && \\sum_{t=1}^{T}\\sum_{c=1}^{C} \\mathbf{x}^t_p m_{t,c}&== \\sum_{t=1}^{T}\\sum_{c=1}^{C} \\mathbf{x}^c_p m_{t,c}&\\quad& \\forall p\\in \\{1,\\ldots,P\\}\\\\\n",
    "  &      &  m_{t,c} &\\in \\{0,1\\},  &\\quad& \\forall t\\in \\{1,\\ldots,T\\},\\quad c\\in \\{1,\\ldots,C\\} \\\\\n",
    " \\end{alignedat}$$"
   ]
  },
  {
   "cell_type": "code",
   "execution_count": 1,
   "metadata": {
    "collapsed": false
   },
   "outputs": [
    {
     "data": {
      "text/plain": [
       "generateCovariates (generic function with 1 method)"
      ]
     },
     "execution_count": 1,
     "metadata": {},
     "output_type": "execute_result"
    }
   ],
   "source": [
    "# Auxiliary function to generate covariate data\n",
    "function generateCovariates(T,C,P,K)\n",
    "    xt = rand(1:K,T,P)\n",
    "    xc = rand(1:K,C,P)\n",
    "    xt, xc\n",
    "end"
   ]
  },
  {
   "cell_type": "code",
   "execution_count": 2,
   "metadata": {
    "collapsed": false
   },
   "outputs": [
    {
     "data": {
      "text/plain": [
       "(\n",
       "3x2 Array{Int64,2}:\n",
       " 1  1\n",
       " 1  1\n",
       " 1  1,\n",
       "\n",
       "5x2 Array{Int64,2}:\n",
       " 2  2\n",
       " 2  2\n",
       " 2  1\n",
       " 1  2\n",
       " 2  2)"
      ]
     },
     "execution_count": 2,
     "metadata": {},
     "output_type": "execute_result"
    }
   ],
   "source": [
    "xt, xc = generateCovariates(3,5,2,2)"
   ]
  },
  {
   "cell_type": "code",
   "execution_count": 3,
   "metadata": {
    "collapsed": false
   },
   "outputs": [],
   "source": [
    "using JuMP, GLPKMathProgInterface"
   ]
  },
  {
   "cell_type": "code",
   "execution_count": 4,
   "metadata": {
    "collapsed": false
   },
   "outputs": [
    {
     "name": "stdout",
     "output_type": "stream",
     "text": [
      "Max m[1,1] + m[1,2] + m[1,3] + m[1,4] + m[1,5] + m[2,1] + m[2,2] + m[2,3] + m[2,4] + m[2,5] + m[3,1] + m[3,2] + m[3,3] + m[3,4] + m[3,5]\n",
      "Subject to\n",
      " m[1,1] + m[2,1] + m[3,1] ≤ 1\n",
      " m[1,2] + m[2,2] + m[3,2] ≤ 1\n",
      " m[1,3] + m[2,3] + m[3,3] ≤ 1\n",
      " m[1,4] + m[2,4] + m[3,4] ≤ 1\n",
      " m[1,5] + m[2,5] + m[3,5] ≤ 1\n",
      " m[1,1] + m[1,2] + m[1,3] + m[1,4] + m[1,5] ≤ 1\n",
      " m[2,1] + m[2,2] + m[2,3] + m[2,4] + m[2,5] ≤ 1\n",
      " m[3,1] + m[3,2] + m[3,3] + m[3,4] + m[3,5] ≤ 1\n",
      " m[1,1] = 0\n",
      " m[1,2] = 0\n",
      " m[1,3] = 0\n",
      " m[1,4] = 0\n",
      " m[1,5] = 0\n",
      " m[2,1] = 0\n",
      " m[2,2] = 0\n",
      " m[2,3] = 0\n",
      " m[2,4] = 0\n",
      " m[2,5] = 0\n",
      " m[3,1] = 0\n",
      " m[3,2] = 0\n",
      " m[3,3] = 0\n",
      " m[3,4] = 0\n",
      " m[3,5] = 0\n",
      " m[i,j] ≥ 0 ∀ i ∈ {1,2,3}, j ∈ {1,2,…,4,5}\n",
      "\n",
      "Solving...\n",
      "Solver status: Optimal\n",
      "Cost: 0.0\n",
      "Solution: \n",
      "[-0.0 -0.0 -0.0 -0.0 -0.0\n",
      " -0.0 -0.0 -0.0 -0.0 -0.0\n",
      " -0.0 -0.0 -0.0 -0.0 -0.0]\n"
     ]
    }
   ],
   "source": [
    "# Create JuMP model, using GLPK as the solver\n",
    "model = Model(solver=GLPKSolverLP())\n",
    "\n",
    "# Data size\n",
    "T = size(xt,1)\n",
    "C = size(xc,1)\n",
    "P = size(xt,2)\n",
    "\n",
    "# Define variables\n",
    "@variable(model, m[1:T,1:C] >= 0)\n",
    "\n",
    "# Add constraints\n",
    "@constraints(model, begin    \n",
    "    supply_constraints[c=1:C], sum{m[t,c],  t=1:T} <= 1\n",
    "    demand_constraints[t=1:T], sum{m[t,c],  c=1:C} <= 1\n",
    "    zero_constraints[t=1:T,c=1:C; xt[t,:] != xc[c,:]], m[t,c] == 0\n",
    "end)\n",
    "\n",
    "# Define objective\n",
    "@objective(model, Max, sum{ m[t,c], t=1:T,c=1:C})\n",
    "\n",
    "# Display Model\n",
    "println(model)\n",
    "\n",
    "# Solve Model\n",
    "println(\"Solving...\")\n",
    "status = solve(model)\n",
    "\n",
    "# Display results\n",
    "println(\"Solver status: \", status)\n",
    "println(\"Cost: \", getobjectivevalue(model))\n",
    "println(\"Solution: \\n\",getvalue(m))"
   ]
  },
  {
   "cell_type": "code",
   "execution_count": 5,
   "metadata": {
    "collapsed": false
   },
   "outputs": [
    {
     "ename": "LoadError",
     "evalue": "LoadError: ArgumentError: collection must be non-empty\nwhile loading In[5], in expression starting on line 22",
     "output_type": "error",
     "traceback": [
      "LoadError: ArgumentError: collection must be non-empty\nwhile loading In[5], in expression starting on line 22",
      "",
      " in first at abstractarray.jl:67",
      " in model_str at /Users/ipcoss/.julia/v0.4/JuMP/src/print.jl:212",
      " in print at /Users/ipcoss/.julia/v0.4/JuMP/src/print.jl:118",
      " in print at strings/io.jl:18",
      " in println at strings/io.jl:25",
      " in println at strings/io.jl:28"
     ]
    }
   ],
   "source": [
    "# Create JuMP model, using GLPK as the solver\n",
    "model = Model(solver=GLPKSolverLP())\n",
    "\n",
    "# Data size\n",
    "T = size(xt,1)\n",
    "C = size(xc,1)\n",
    "P = size(xt,2)\n",
    "\n",
    "# Define variables\n",
    "@variable(model, m[t=1:T,c=1:C; xt[t,:] == xc[c,:]] >= 0)\n",
    "\n",
    "# Add constraints\n",
    "@constraints(model, begin    \n",
    "    supply_constraints[c=1:C], sum{m[t,c],  t=1:T; xt[t,:] == xc[c,:]} <= 1\n",
    "    demand_constraints[t=1:T], sum{m[t,c],  c=1:C; xt[t,:] == xc[c,:]} <= 1\n",
    "end)\n",
    "\n",
    "# Define objective\n",
    "@objective(model, Max, sum{ m[t,c], t=1:T,c=1:C; xt[t,:] == xc[c,:]})\n",
    "\n",
    "# Display Model\n",
    "println(model)\n",
    "\n",
    "# Solve Model\n",
    "println(\"Solving...\")\n",
    "status = solve(model)\n",
    "\n",
    "# Display results\n",
    "println(\"Solver status: \", status)\n",
    "println(\"Cost: \", getobjectivevalue(model))\n",
    "println(\"Solution: \\n\",getvalue(m))"
   ]
  },
  {
   "cell_type": "code",
   "execution_count": 6,
   "metadata": {
    "collapsed": false
   },
   "outputs": [
    {
     "data": {
      "text/plain": [
       "(\n",
       "10x2 Array{Int64,2}:\n",
       " 1  1\n",
       " 1  2\n",
       " 2  2\n",
       " 4  1\n",
       " 1  5\n",
       " 5  4\n",
       " 5  4\n",
       " 4  1\n",
       " 5  3\n",
       " 1  4,\n",
       "\n",
       "20x2 Array{Int64,2}:\n",
       " 1  4\n",
       " 2  3\n",
       " 4  3\n",
       " 4  3\n",
       " 5  5\n",
       " 1  3\n",
       " 5  5\n",
       " 1  5\n",
       " 4  4\n",
       " 1  4\n",
       " 4  2\n",
       " 4  2\n",
       " 4  5\n",
       " 2  1\n",
       " 3  5\n",
       " 1  4\n",
       " 3  4\n",
       " 3  2\n",
       " 4  3\n",
       " 1  4)"
      ]
     },
     "execution_count": 6,
     "metadata": {},
     "output_type": "execute_result"
    }
   ],
   "source": [
    "xt, xc = generateCovariates(10,20,2,5)"
   ]
  },
  {
   "cell_type": "code",
   "execution_count": 7,
   "metadata": {
    "collapsed": false
   },
   "outputs": [
    {
     "name": "stdout",
     "output_type": "stream",
     "text": [
      "Solving...\n",
      "Solver status: Optimal\n",
      "Cost: 10.0\n",
      "Solution: \n",
      "[1.0 0.0 0.0 0.0 0.0 0.0 0.0 0.0 0.0 -1.1102230246251575e-16 0.0 0.0 0.0 0.0 0.0 0.0 0.0 0.0 0.0 0.0\n",
      " 0.0 0.0 0.0 0.0 0.0 0.0 0.0 0.0 0.0 0.0 0.0 0.0 0.0 1.0 0.0 0.0 0.0 -0.0 0.0 0.0\n",
      " 0.0 0.0 0.0 0.0 0.0 0.6249999999999999 0.0 0.0 0.0 0.0 0.0 -0.0 0.0 0.0 0.3750000000000001 0.0 0.0 0.0 0.0 0.0\n",
      " 0.0 0.0 0.25000000000000006 0.7499999999999999 0.0 0.0 0.0 0.0 0.0 0.0 0.0 0.0 0.0 0.0 0.0 0.0 0.0 -0.0 0.0 0.0\n",
      " 0.0 0.0 0.0 0.0 0.0 0.0 0.0 0.0 0.0 0.0 1.0 -0.0 0.0 0.0 0.0 0.0 0.0 0.0 0.0 0.0\n",
      " 0.0 0.0 0.7499999999999999 0.0 0.0 0.0 0.0 0.0 0.0 0.25000000000000006 0.0 0.0 0.0 0.0 0.0 0.0 0.0 0.0 0.0 0.0\n",
      " 0.0 0.0 0.0 0.0 0.0 0.0 0.0 0.0 0.0 0.0 0.0 0.0 0.0 0.0 0.0 0.0 0.0 1.0 0.0 0.0\n",
      " 0.0 0.0 0.0 0.25000000000000006 0.0 0.0 0.0 0.0 0.0 0.0 0.0 0.0 0.0 0.0 0.0 0.0 0.0 0.0 0.7499999999999999 0.0\n",
      " 0.0 1.0 0.0 0.0 0.0 0.0 0.0 0.0 0.0 0.0 0.0 0.0 0.0 0.0 0.0 0.0 0.0 -0.0 0.0 0.0\n",
      " 0.0 0.0 0.0 0.0 0.0 0.0 0.0 0.0 0.0 0.0 0.0 1.0 0.0 0.0 0.0 0.0 0.0 0.0 0.0 0.0]\n"
     ]
    }
   ],
   "source": [
    "# Create JuMP model, using GLPK as the solver\n",
    "model = Model(solver=GLPKSolverLP())\n",
    "\n",
    "T = size(xt,1)\n",
    "C = size(xc,1)\n",
    "P = size(xt,2)\n",
    "\n",
    "# Define variables\n",
    "@variable(model, m[1:T,1:C] >= 0)\n",
    "\n",
    "# Add constraints\n",
    "@constraints(model, begin    \n",
    "    supply_constraints[c=1:C], sum{m[t,c],  t=1:T} <= 1\n",
    "    demand_constraints[t=1:T], sum{m[t,c],  c=1:C} <= 1\n",
    "    average_constraints[p=1:P],    sum{xt[t,p]*m[t,c], t=1:T, c=1:C} == sum{xc[c,p]*m[t,c], t=1:T, c=1:C} \n",
    "end)\n",
    "\n",
    "# Define objective\n",
    "@objective(model, Max, sum{ m[t,c], t=1:T,c=1:C})\n",
    "\n",
    "# Solve Model\n",
    "println(\"Solving...\")\n",
    "status = solve(model)\n",
    "\n",
    "# Display results\n",
    "println(\"Solver status: \", status)\n",
    "println(\"Cost: \", getobjectivevalue(model))\n",
    "println(\"Solution: \\n\",getvalue(m))"
   ]
  },
  {
   "cell_type": "code",
   "execution_count": 8,
   "metadata": {
    "collapsed": false
   },
   "outputs": [
    {
     "name": "stdout",
     "output_type": "stream",
     "text": [
      "Solving...\n",
      "Solver status: Optimal\n",
      "Cost: 10.0\n",
      "Solution: \n",
      "[0.0 0.0 0.0 0.0 0.0 0.0 0.0 1.0 0.0 0.0 0.0 0.0 0.0 0.0 0.0 0.0 0.0 0.0 0.0 0.0\n",
      " 0.0 0.0 0.0 0.0 0.0 0.0 0.0 0.0 0.0 0.0 0.0 0.0 0.0 1.0 0.0 0.0 0.0 0.0 0.0 0.0\n",
      " 0.0 0.0 0.0 0.0 0.0 1.0 0.0 0.0 0.0 0.0 0.0 0.0 0.0 0.0 0.0 0.0 0.0 0.0 0.0 0.0\n",
      " 0.0 0.0 0.0 1.0 0.0 0.0 0.0 0.0 0.0 0.0 0.0 0.0 0.0 0.0 0.0 0.0 0.0 0.0 0.0 0.0\n",
      " 0.0 0.0 0.0 0.0 0.0 0.0 0.0 0.0 0.0 0.0 1.0 0.0 0.0 0.0 0.0 0.0 0.0 0.0 0.0 0.0\n",
      " 0.0 0.0 1.0 0.0 0.0 0.0 0.0 0.0 0.0 0.0 0.0 0.0 0.0 0.0 0.0 0.0 0.0 0.0 0.0 0.0\n",
      " 0.0 0.0 0.0 0.0 0.0 0.0 0.0 0.0 0.0 0.0 0.0 0.0 0.0 0.0 0.0 0.0 0.0 1.0 0.0 0.0\n",
      " 0.0 0.0 0.0 0.0 0.0 0.0 0.0 0.0 0.0 0.0 0.0 0.0 0.0 0.0 0.0 0.0 0.0 0.0 1.0 0.0\n",
      " 0.0 1.0 0.0 0.0 0.0 0.0 0.0 0.0 0.0 0.0 0.0 0.0 0.0 0.0 0.0 0.0 0.0 0.0 0.0 0.0\n",
      " 0.0 0.0 0.0 0.0 0.0 0.0 0.0 0.0 0.0 0.0 0.0 1.0 0.0 0.0 0.0 0.0 0.0 0.0 0.0 0.0]\n"
     ]
    }
   ],
   "source": [
    "model = Model(solver=GLPKSolverMIP())\n",
    "\n",
    "T = size(xt,1)\n",
    "C = size(xc,1)\n",
    "P = size(xt,2)\n",
    "\n",
    "# Define variables\n",
    "@variable(model, m[1:T,1:C] >= 0, Int)\n",
    "\n",
    "# Add constraints\n",
    "@constraints(model, begin    \n",
    "    supply_constraints[c=1:C], sum{m[t,c],  t=1:T} <= 1\n",
    "    demand_constraints[t=1:T], sum{m[t,c],  c=1:C} <= 1\n",
    "    average_constraints[p=1:P],    sum{xt[t,p]*m[t,c], t=1:T, c=1:C} == sum{xc[c,p]*m[t,c], t=1:T, c=1:C} \n",
    "end)\n",
    "\n",
    "# Define objective\n",
    "@objective(model, Max, sum{ m[t,c], t=1:T,c=1:C})\n",
    "\n",
    "# Solve Model\n",
    "println(\"Solving...\")\n",
    "status = solve(model)\n",
    "\n",
    "# Display results\n",
    "println(\"Solver status: \", status)\n",
    "println(\"Cost: \", getobjectivevalue(model))\n",
    "println(\"Solution: \\n\",getvalue(m))"
   ]
  },
  {
   "cell_type": "code",
   "execution_count": null,
   "metadata": {
    "collapsed": true
   },
   "outputs": [],
   "source": []
  }
 ],
 "metadata": {
  "anaconda-cloud": {},
  "kernelspec": {
   "display_name": "Julia 0.4.5",
   "language": "julia",
   "name": "julia-0.4"
  },
  "language_info": {
   "file_extension": ".jl",
   "mimetype": "application/julia",
   "name": "julia",
   "version": "0.4.5"
  }
 },
 "nbformat": 4,
 "nbformat_minor": 0
}
